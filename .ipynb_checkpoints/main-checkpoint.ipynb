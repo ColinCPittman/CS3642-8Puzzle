{
 "cells": [
  {
   "cell_type": "code",
   "execution_count": null,
   "id": "b4a1d9b2-6bc4-40af-b044-4306fc7e52c8",
   "metadata": {},
   "outputs": [],
   "source": [
    "def moveLeft(index) {\n",
    "}"
   ]
  }
 ],
 "metadata": {
  "kernelspec": {
   "display_name": "Python 3 (ipykernel)",
   "language": "python",
   "name": "python3"
  },
  "language_info": {
   "codemirror_mode": {
    "name": "ipython",
    "version": 3
   },
   "file_extension": ".py",
   "mimetype": "text/x-python",
   "name": "python",
   "nbconvert_exporter": "python",
   "pygments_lexer": "ipython3",
   "version": "3.12.6"
  }
 },
 "nbformat": 4,
 "nbformat_minor": 5
}
