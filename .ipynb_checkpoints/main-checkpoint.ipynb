{
 "cells": [
  {
   "cell_type": "code",
   "execution_count": 8,
   "id": "2cca5db0-deed-4318-bcd6-f053211e4a6d",
   "metadata": {},
   "outputs": [],
   "source": [
    "import copy"
   ]
  },
  {
   "cell_type": "code",
   "execution_count": 7,
   "id": "0437a839-feb2-412a-94a0-09e5c1935ee1",
   "metadata": {},
   "outputs": [],
   "source": [
    "class BoardState:\n",
    "    def __init__(self, board=None, parent=None, childStates=None):\n",
    "        if board is None:\n",
    "            self.board = board\n",
    "        else:\n",
    "            self.board = copy.deepcopy(board)\n",
    "        if parent is None:\n",
    "            self.parent = None\n",
    "        else:\n",
    "            self.parent = copy.deepcopy(parent)\n",
    "        if childState is None:\n",
    "            self.childStates = []\n",
    "        else:\n",
    "            self.childStates = copy.deepcopy(childStates)\n",
    "\n",
    "    def add_child_state(self, childBoardStates):\n",
    "        self.childStates.extend(childBoardStates)\n",
    "\n",
    "    def path_to_root(self):\n",
    "        path = []\n",
    "        current = self\n",
    "        while current:\n",
    "            path.append(current.board)\n",
    "            current = current.parent\n",
    "        return path[::-1]\n",
    "\n",
    "    def __str__(self):\n",
    "        return str(self.board)\n",
    "\n",
    "    def locate_blankTile(self):\n",
    "        for index, element in enumerate(board):\n",
    "            if element == \"x\":\n",
    "                return index\n",
    "        return -1"
   ]
  },
  {
   "cell_type": "code",
   "execution_count": null,
   "id": "4e823adb-9ce2-4d11-af82-e877bc933357",
   "metadata": {},
   "outputs": [],
   "source": [
    "def generate_moves(self, Boardstate, moveSet):\n",
    "    blankTileIndex = BoardState.locate_blankTile()\n",
    "    Boardstate2 = copy.deepcopy(Boardstate.board)\n",
    "    if blankTileIndex == -1:\n",
    "        raise ValueError(\"Invalid blank tile index\")\n",
    "    if blankTileIndex - 3 >= 0:\n",
    "        temp = Boardstate2[blankTileIndex -3] \n",
    "        Boardstate2[blankTileIndex-3] = \"x\"\n",
    "        Boardstate2[blankTileIndex] = temp \n",
    "        if str(Boardstate2) not in moveSet:\n",
    "            moveSet.add(str(Boardstate2))\n",
    "            newChild = BoardState(board=Boardstate2, parent=Boardstate)\n",
    "            Boardstate.add_child_state(newChild)\n",
    "        Boardstate2 = copy.deepcopy(Boardstate.board)\n",
    "\n",
    "    if blankTileIndex + 3 <= 8:\n",
    "        temp = Boardstate2[blankTileIndex +3] \n",
    "        Boardstate2[blankTileIndex+3] = \"x\"\n",
    "        Boardstate2[blankTileIndex] = temp \n",
    "        if str(Boardstate2) not in moveSet:\n",
    "            moveSet.add(str(Boardstate2))\n",
    "            newChild = BoardState(board=Boardstate2, parent=Boardstate)\n",
    "            Boardstate.add_child_state(newChild)\n",
    "        Boardstate2 = copy.deepcopy(Boardstate.board)\n",
    "\n",
    "    if blankTileIndex % 3 != 0:\n",
    "        temp = Boardstate2[blankTileIndex -1] \n",
    "        Boardstate2[blankTileIndex-1] = \"x\"\n",
    "        Boardstate2[blankTileIndex] = temp \n",
    "        if str(Boardstate2) not in moveSet:\n",
    "            moveSet.add(str(Boardstate2))\n",
    "            newChild = BoardState(board=Boardstate2, parent=Boardstate)\n",
    "            Boardstate.add_child_state(newChild)\n",
    "        Boardstate2 = copy.deepcopy(Boardstate.board)\n",
    "\n",
    "    if blankTileIndex % 3 != 2:\n",
    "        temp = Boardstate2[blankTileIndex +1] \n",
    "        Boardstate2[blankTileIndex+1] = \"x\"\n",
    "        Boardstate2[blankTileIndex] = temp \n",
    "        if str(Boardstate2) not in moveSet:\n",
    "            moveSet.add(str(Boardstate2))\n",
    "            newChild = BoardState(board=Boardstate2, parent=Boardstate)\n",
    "            Boardstate.add_child_state(newChild)\n",
    "        Boardstate2 = copy.deepcopy(Boardstate.board)"
   ]
  },
  {
   "cell_type": "code",
   "execution_count": null,
   "id": "cd869391-bf0f-4688-b7ed-071cda7841b5",
   "metadata": {},
   "outputs": [],
   "source": []
  }
 ],
 "metadata": {
  "kernelspec": {
   "display_name": "Python 3 (ipykernel)",
   "language": "python",
   "name": "python3"
  },
  "language_info": {
   "codemirror_mode": {
    "name": "ipython",
    "version": 3
   },
   "file_extension": ".py",
   "mimetype": "text/x-python",
   "name": "python",
   "nbconvert_exporter": "python",
   "pygments_lexer": "ipython3",
   "version": "3.12.6"
  }
 },
 "nbformat": 4,
 "nbformat_minor": 5
}
