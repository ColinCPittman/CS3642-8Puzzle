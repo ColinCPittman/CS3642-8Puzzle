{
 "cells": [
  {
   "cell_type": "code",
   "execution_count": 1,
   "id": "2cca5db0-deed-4318-bcd6-f053211e4a6d",
   "metadata": {},
   "outputs": [],
   "source": [
    "import copy\n",
    "from collections import deque\n",
    "import random"
   ]
  },
  {
   "cell_type": "code",
   "execution_count": 2,
   "id": "74323da6-86c3-4102-afeb-b5e581ba341d",
   "metadata": {},
   "outputs": [],
   "source": [
    "class BoardState:\n",
    "    \n",
    "    def __init__(self, board=None, parent=None, childStates=None):\n",
    "        if board is None:\n",
    "            self.board = None\n",
    "        else:\n",
    "            self.board = copy.deepcopy(board)\n",
    "        if parent is None:\n",
    "            self.parent = None\n",
    "        else:\n",
    "            self.parent = copy.deepcopy(parent)\n",
    "        if childStates is None:\n",
    "            self.childStates = []\n",
    "        else:\n",
    "            self.childStates = copy.deepcopy(childStates)\n",
    "\n",
    "    def add_child_state(self, childBoardStates):\n",
    "        self.childStates.extend(childBoardStates)\n",
    "\n",
    "    def path_to_root(self):\n",
    "        path = []\n",
    "        current = self\n",
    "        while current:\n",
    "            path.append(current.board)\n",
    "            current = current.parent\n",
    "        return path[::-1]\n",
    "\n",
    "    def __str__(self):\n",
    "        return str(self.board)\n",
    "\n",
    "    def locate_blankTile(self):\n",
    "        for index, element in enumerate(self.board):\n",
    "            if element == \"x\":\n",
    "                return index\n",
    "        return -1\n",
    "    \n",
    "    def print(self):\n",
    "        count = 0\n",
    "        for element in self.board:\n",
    "            print(element, end=\" \")\n",
    "            count += 1\n",
    "            if count % 3 == 0:\n",
    "                print()"
   ]
  },
  {
   "cell_type": "code",
   "execution_count": 3,
   "id": "4e823adb-9ce2-4d11-af82-e877bc933357",
   "metadata": {},
   "outputs": [],
   "source": [
    "def generate_moves(Boardstate, moveSet):\n",
    "    blankTileIndex = Boardstate.locate_blankTile()\n",
    "    Boardstate2 = copy.deepcopy(Boardstate.board)\n",
    "    if blankTileIndex == -1:\n",
    "        raise ValueError(\"Invalid blank tile index\")\n",
    "    if blankTileIndex - 3 >= 0:\n",
    "        temp = Boardstate2[blankTileIndex -3] \n",
    "        Boardstate2[blankTileIndex-3] = \"x\"\n",
    "        Boardstate2[blankTileIndex] = temp \n",
    "        if str(Boardstate2) not in moveSet:\n",
    "            moveSet.add(str(Boardstate2))\n",
    "            newChild = BoardState(board=Boardstate2, parent=Boardstate)\n",
    "            Boardstate.add_child_state([newChild])\n",
    "        Boardstate2 = copy.deepcopy(Boardstate.board)\n",
    "\n",
    "    if blankTileIndex + 3 <= 8:\n",
    "        temp = Boardstate2[blankTileIndex +3] \n",
    "        Boardstate2[blankTileIndex+3] = \"x\"\n",
    "        Boardstate2[blankTileIndex] = temp \n",
    "        if str(Boardstate2) not in moveSet:\n",
    "            moveSet.add(str(Boardstate2))\n",
    "            newChild = BoardState(board=Boardstate2, parent=Boardstate)\n",
    "            Boardstate.add_child_state([newChild])\n",
    "        Boardstate2 = copy.deepcopy(Boardstate.board)\n",
    "\n",
    "    if blankTileIndex % 3 != 0:\n",
    "        temp = Boardstate2[blankTileIndex -1] \n",
    "        Boardstate2[blankTileIndex-1] = \"x\"\n",
    "        Boardstate2[blankTileIndex] = temp \n",
    "        if str(Boardstate2) not in moveSet:\n",
    "            moveSet.add(str(Boardstate2))\n",
    "            newChild = BoardState(board=Boardstate2, parent=Boardstate)\n",
    "            Boardstate.add_child_state([newChild])\n",
    "        Boardstate2 = copy.deepcopy(Boardstate.board)\n",
    "\n",
    "    if blankTileIndex % 3 != 2:\n",
    "        temp = Boardstate2[blankTileIndex +1] \n",
    "        Boardstate2[blankTileIndex+1] = \"x\"\n",
    "        Boardstate2[blankTileIndex] = temp \n",
    "        if str(Boardstate2) not in moveSet:\n",
    "            moveSet.add(str(Boardstate2))\n",
    "            newChild = BoardState(board=Boardstate2, parent=Boardstate)\n",
    "            Boardstate.add_child_state([newChild])\n",
    "        Boardstate2 = copy.deepcopy(Boardstate.board)"
   ]
  },
  {
   "cell_type": "code",
   "execution_count": 4,
   "id": "cd869391-bf0f-4688-b7ed-071cda7841b5",
   "metadata": {},
   "outputs": [],
   "source": [
    "def BFS(board, moveSet):\n",
    "    visiting = deque()\n",
    "    visiting.append(board)\n",
    "    \n",
    "    while visiting:\n",
    "        current = visiting.popleft()\n",
    "        if current.board == ['1', '2', '3', '8', \"x\", '4', '7', '6', '5']:\n",
    "            return board.path_to_root()\n",
    "        generate_moves(current, moveSet) # this updates parent with new children and it doesn't add duplicate states present in moveSet already\n",
    "        for childMove in current.childStates:\n",
    "            visiting.append(childMove)\n",
    "    return \"No solution found\"\n",
    "    "
   ]
  },
  {
   "cell_type": "code",
   "execution_count": null,
   "id": "a8629283-45e0-4edb-addc-b95c26fda0be",
   "metadata": {},
   "outputs": [
    {
     "name": "stdout",
     "output_type": "stream",
     "text": [
      "NOTE: Enter 'c' at the ipdb>  prompt to continue execution.\n",
      "> \u001b[1;32m<string>\u001b[0m(2)\u001b[0;36m<module>\u001b[1;34m()\u001b[0m\n",
      "\n"
     ]
    }
   ],
   "source": [
    "%%debug\n",
    "def DFS(board_state, moveSet):\n",
    "    DFSstack = []\n",
    "    current = board_state.board\n",
    "    if current == ['1', '2', '3', '8', \"x\", '4', '7', '6', '5']:\n",
    "            return board.path_to_root()\n",
    "    generate_moves(board_state, moveSet)\n",
    "    for childState in board_state.childStates:\n",
    "        DFSstack.append(childState)\n",
    "    while DFSstack:\n",
    "        currentState = DFSstack.pop()\n",
    "        if currentState.board == ['1', '2', '3', '8', \"x\", '4', '7', '6', '5']:\n",
    "            return currentState.path_to_root()\n",
    "        else:\n",
    "            result = DFS(currentState, moveSet)\n",
    "            if result:\n",
    "                return result\n",
    "    return None"
   ]
  },
  {
   "cell_type": "code",
   "execution_count": null,
   "id": "51700d59-aaa9-4619-9f55-0747060352c6",
   "metadata": {},
   "outputs": [],
   "source": [
    "def initialize_board(boardstate): \n",
    "        boardstate.board = list(range(1,9))\n",
    "        boardstate.board.append(\"x\") \n",
    "        random.shuffle(boardstate.board)"
   ]
  },
  {
   "cell_type": "code",
   "execution_count": null,
   "id": "04935063-df73-4ef2-906b-1afc3d01e991",
   "metadata": {},
   "outputs": [],
   "source": [
    "def main(): \n",
    "    newBoard = BoardState() \n",
    "    initialize_board(newBoard)\n",
    "    print(\"Initial Board\")\n",
    "    newBoard.print()\n",
    "    print(\"BFS Search Result:\")\n",
    "    moveSet = set() \n",
    "    path=BFS(newBoard, moveSet)\n",
    "    for board in path:\n",
    "        print(board)\n",
    "    "
   ]
  },
  {
   "cell_type": "code",
   "execution_count": null,
   "id": "72cf491e-7ac0-4855-956d-34fcf557d71f",
   "metadata": {},
   "outputs": [],
   "source": [
    "if __name__ == \"__main__\":\n",
    "    main()"
   ]
  },
  {
   "cell_type": "code",
   "execution_count": null,
   "id": "10d1332b-19fd-4ccb-b34f-7884edaa9cbe",
   "metadata": {},
   "outputs": [],
   "source": []
  },
  {
   "cell_type": "code",
   "execution_count": null,
   "id": "aabf0b57-e5ce-450a-adf1-771c9ea50481",
   "metadata": {},
   "outputs": [],
   "source": []
  }
 ],
 "metadata": {
  "kernelspec": {
   "display_name": "Python 3 (ipykernel)",
   "language": "python",
   "name": "python3"
  },
  "language_info": {
   "codemirror_mode": {
    "name": "ipython",
    "version": 3
   },
   "file_extension": ".py",
   "mimetype": "text/x-python",
   "name": "python",
   "nbconvert_exporter": "python",
   "pygments_lexer": "ipython3",
   "version": "3.12.6"
  }
 },
 "nbformat": 4,
 "nbformat_minor": 5
}
